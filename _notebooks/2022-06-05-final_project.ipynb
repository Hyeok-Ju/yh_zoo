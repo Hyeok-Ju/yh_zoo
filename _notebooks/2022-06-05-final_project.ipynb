{
 "cells": [
  {
   "cell_type": "markdown",
   "metadata": {},
   "source": [
    "# \"Data Mining Final Project\"\n",
    "\n",
    "> \"Data Mining Final Project\"\n",
    "\n",
    "- toc:true\n",
    "- branch: master\n",
    "- badges: true\n",
    "- image: /images\n",
    "- comments: true\n",
    "- author: Hyeokju Yeon\n",
    "- categories: [project, data mining, excersize]"
   ]
  },
  {
   "cell_type": "markdown",
   "metadata": {},
   "source": [
    "### 부동산 공급과 수요에 따른 집값 분석 \n",
    "\n",
    "\n",
    "**목차**\n",
    "* [1. 서론](#chapter1)\n",
    "    * [1-1. 주제 선정이유](#section_1_1)\n",
    "* [2. 데이터 소개](#chapter2)\n",
    "    * [2-1. 데이터 제공 대회](#section_2_1)\n",
    "    * [2-2. 데이터 소개](#section_2_2)\n",
    "* [3. 분석](#chapter3)\n",
    "    * [3-1. 네이버 뉴스 제목 워드클라우드](#section_3_1)\n",
    "    * [3-2. 전국 규모 아파트 가격](#section_3_2)\n",
    "    * [3-3. 시군구 규모 아파트 가격](#section_3_3)\n",
    "    * [3-4. 수요과 공급](#section_3_4)\n",
    "    * [3-5. 타깃 설정과 수요와 공급 적용](#section_3_5)\n",
    "* [4. 결론](#chapter4)\n",
    "    * [4-1. 한계점](#section_4_1) \n",
    "    * [4-2. 추후 연구 방향](#section_4_2) "
   ]
  },
  {
   "cell_type": "markdown",
   "metadata": {},
   "source": [
    "### 1. 서론 <a class=\"anchor\" id=\"chapter1\"></a>\n",
    "\n",
    "- **주제** : 부동산 공급과 수요에 따른 집값 분석 -> 집이 부족하여 집값이 계속 상승하는 것인가?<br></br>"
   ]
  },
  {
   "cell_type": "markdown",
   "metadata": {},
   "source": [
    "- Load Packages"
   ]
  },
  {
   "cell_type": "code",
   "execution_count": null,
   "metadata": {},
   "outputs": [],
   "source": [
    "import pandas as pd\n",
    "import geopandas as gpd \n",
    "import plotly.express as px \n",
    "import json\n",
    "from bs4 import BeautifulSoup\n",
    "import requests\n",
    "from konlpy.tag import Twitter\n",
    "from collections import Counter\n",
    "from wordcloud import WordCloud\n",
    "import matplotlib.pyplot as plt"
   ]
  },
  {
   "cell_type": "markdown",
   "metadata": {},
   "source": [
    "#### 1-1. 주제 선정이유 <a class=\"anchor\" id=\"section_1_1\"></a>\n",
    "\n",
    "- **뉴스에서도 항상 나오는 꾸준히 상승하는 집값에 대해 집이 부족하여 집값이 상승하는 것인가 궁금증을 해소하기 위함이다.**"
   ]
  },
  {
   "cell_type": "markdown",
   "metadata": {},
   "source": [
    "---"
   ]
  },
  {
   "cell_type": "markdown",
   "metadata": {},
   "source": [
    "### 2. 데이터 소개 <a class=\"anchor\" id=\"chapter2\"></a>\n",
    "\n",
    "#### 2-1. 데이터 제공 대회 <a class=\"anchor\" id=\"section_2_1\"></a>\n",
    "- [**데이콘**](https://dacon.io/)\n"
   ]
  },
  {
   "cell_type": "markdown",
   "metadata": {},
   "source": [
    "#### 2-2. 데이터 소개 <a class=\"anchor\" id=\"section_2_2\"></a>\n",
    "- **['한국 부동산 데이터 시각화 경진대회'](https://dacon.io/competitions/official/235724/overview/description)에서 제공한 데이터**\n",
    "    - 주택매매가격지수: 주택매매가격의 증감폭을 년월 별로 나타낸 데이터\n",
    "    - 주택전세가격지수: 주택전세가격의 증감폭을 년월 별로 나타낸 데이터\n",
    "    - 미분양주택현황: 년월 별로 시도별 미분양주택의 세대수를 나타낸 데이터\n",
    "    - 아파트 실거래가격지수: 주택 실거래가격의 증감폭을 년월 별로 나타낸 데이터\n",
    "    - cf. 지수데이터란? 특정 년도 기준 증감 폭을 퍼센트로 나타낸 데이터(예시: 2017년도 기준 | 2017년도 데이터 100%, 2017년도 보다 증가 120%, 감소 80%) <p></p>\n",
    "- **통계청 데이터 포털** \n",
    "    - [시군구 년도별 인구수 API](https://sgis.kostat.go.kr/developer/html/newOpenApi/api/dataApi/census.html): 년도별 시군구 인구수를 나타낸 데이터 <p></p>\n",
    "\n",
    "- **시군구 지리정보**\n",
    "    - [시군구 지리정보 데이터](http://www.gisdeveloper.co.kr/?p=2332): 시군구 지리정보를 담고 있는 데이터"
   ]
  },
  {
   "cell_type": "code",
   "execution_count": null,
   "metadata": {},
   "outputs": [],
   "source": [
    "###### LOAD DATA\n",
    "\n",
    "### DACON DATA\n",
    "unsold_home = pd.read_csv(\"./data/미분양주택현황.csv\")\n",
    "Apartment_cost = pd.read_csv(\"./data/아파트 실거래가격지수.csv\")\n",
    "house_cost = pd.read_csv(\"./data/주택매매가격지수(KB).csv\")\n",
    "house_charter_cost = pd.read_csv(\"./data/주택전세가격지수(KB).csv\")\n",
    "\n",
    "### 시군구 지리정보\n",
    "regions = gpd.read_file(\"./data/ctp_rvn.shp\", encoding=\"cp949\")\n",
    "\n",
    "### 시군구 년도별 인구수 데이터 \n",
    "population = pd.DataFrame()\n",
    "for i in [2016,2017, 2018, 2019, 2020]:\n",
    "    population_subset = pd.read_csv(f\"{i}인구수.csv\")\n",
    "    population_subset[\"year\"] = i\n",
    "    population = pd.concat([population, population_subset])\n",
    "    \n",
    "population[\"house_cnt\"] = population[\"house_cnt\"]\n",
    "population = population.reset_index(drop=True)"
   ]
  },
  {
   "cell_type": "markdown",
   "metadata": {},
   "source": [
    "---"
   ]
  },
  {
   "cell_type": "markdown",
   "metadata": {},
   "source": [
    "### 3. 분석 <a class=\"anchor\" id=\"chapter3\"></a>"
   ]
  },
  {
   "cell_type": "markdown",
   "metadata": {},
   "source": [
    "#### 3-1. 네이버 뉴스 제목 워드클라우드 <a class=\"anchor\" id=\"section_3_1\"></a>\n",
    "\n",
    "- 해당 코드는 원하는 키워드로 최신 네이버 뉴스의 제목을 크롤링해서 워드클라우드를 만들어 주는 코드이다.<p>\n",
    "- 아래 집값에 관한 워드클라우드를 살펴보면, 상승과 하락이 빈도가 높은 것을 확인할 수 있다. 집값에 관해 나오는 기사는 하락과 상승에 대한 것이 많고, 많은 사람들 또한 관심이 있기 때문이라고 짐작할 수 있다."
   ]
  },
  {
   "cell_type": "code",
   "execution_count": null,
   "metadata": {},
   "outputs": [],
   "source": [
    "search_word = \"집값\"  # 검색어 지정\n",
    "title_list = []\n",
    " \n",
    "def get_titles(start_num, end_num):\n",
    "    #start_num ~ end_num까지 크롤링\n",
    "    while 1:\n",
    "        if start_num > end_num:\n",
    "            break\n",
    " \n",
    "        url = 'https://search.naver.com/search.naver?where=news&sm=tab_jum&query={}&start={}'.format(search_word,start_num)\n",
    "        req = requests.get(url)\n",
    " \n",
    "        # 정상적인 request 확인\n",
    "        if req.ok:\n",
    "            html = req.text\n",
    "            soup = BeautifulSoup(html, 'html.parser')\n",
    " \n",
    "            # 뉴스제목 뽑아오기\n",
    "            titles = soup.select(\n",
    "                'ul.list_news > li > div > div > a'\n",
    "            )\n",
    " \n",
    "            # list에 넣어준다\n",
    "            for title in titles:\n",
    "                title_list.append(title['title'])\n",
    "        start_num += 10\n",
    " \n",
    "def make_wordcloud(word_count):\n",
    "    twitter = Twitter()\n",
    " \n",
    "    sentences_tag = []\n",
    "    #형태소 분석하여 리스트에 넣기\n",
    "    for sentence in title_list:\n",
    "        morph = twitter.pos(sentence)\n",
    "        sentences_tag.append(morph)\n",
    " \n",
    "    noun_adj_list = []\n",
    "    #명사와 형용사만 구분하여 이스트에 넣기\n",
    "    for sentence1 in sentences_tag:\n",
    "        for word, tag in sentence1:\n",
    "            if tag in ['Noun', 'Adjective']:\n",
    "                noun_adj_list.append(word)\n",
    " \n",
    "    #형태소별 count\n",
    "    counts = Counter(noun_adj_list)\n",
    "    tags = counts.most_common(word_count)\n",
    "    \n",
    "    #wordCloud생성\n",
    "    #한글꺠지는 문제 해결하기위해 font_path 지정\n",
    "    wc = WordCloud(font_path='C:\\\\Users\\\\user\\\\AppData\\\\Local\\\\Microsoft\\\\Windows\\\\Fonts\\\\NanumGothicLight.ttf', background_color='white', width=800, height=600)\n",
    "    cloud = wc.generate_from_frequencies(dict(tags))\n",
    "    plt.figure(figsize=(10, 8))\n",
    "    plt.axis('off')\n",
    "    plt.imshow(cloud)\n",
    "    plt.show()\n",
    "\n",
    "if __name__ == '__main__':\n",
    "    #1~200번게시글 까지 크롤링\n",
    "    get_titles(1,100)\n",
    " \n",
    "    #단어 30개까지 wordcloud로 출력\n",
    "    make_wordcloud(30)"
   ]
  },
  {
   "cell_type": "markdown",
   "metadata": {},
   "source": [
    "![wordcloud](./images/wordcloud.png)"
   ]
  },
  {
   "cell_type": "markdown",
   "metadata": {},
   "source": [
    "#### 3-2. 전국 규모 아파트 가격 <a class=\"anchor\" id=\"section_3_2\"></a>\n",
    "- 부동산 중 아파트를 타겟으로 전국의 아파트 실거래 지수를 살펴보았다.\n",
    "- 해당 데이터는 2017년도를 기준으로 지수가 만들어졌기 때문에 2017년 100%인 1로 나타나 있는 것을 볼 수 있다. \n",
    "- 또한 전국적으로 아파트 실거래 지수는 계속해서 상승하고 있는것을 확인할 수 있다.<p>\n",
    "- 전국적으로 상승하고 있지만, 미시적으로 시군구도 같은지 살펴보자"
   ]
  },
  {
   "cell_type": "code",
   "execution_count": null,
   "metadata": {},
   "outputs": [],
   "source": [
    "### 주택 가격 지수 전처리 (2017-11-01이 기준이기 때문에 모든 데이터를 01-01로 한다)\n",
    "def Apartment_cost_prepared(Apartment_cost):\n",
    "    col1 = [\"date\"]\n",
    "    col2 = [i.split(\"[\")[0] for i in Apartment_cost.columns[1:].tolist()]\n",
    "    col = col1 + col2\n",
    "    Apartment_cost.columns = col\n",
    "    Apartment_cost = Apartment_cost.fillna(0)\n",
    "    \n",
    "    year =  [f\"{i}-11-01\" for i in range(2006, 2022)]\n",
    "    Apartment_cost = Apartment_cost.loc[Apartment_cost['date'].isin(year)]\n",
    "    Apartment_cost[\"year\"] = [f\"{i}\" for i in range(2006, 2021)]\n",
    "    return Apartment_cost\n",
    "\n",
    "Apartment_cost = Apartment_cost_prepared(Apartment_cost)"
   ]
  },
  {
   "cell_type": "code",
   "execution_count": null,
   "metadata": {},
   "outputs": [],
   "source": [
    "Apartment_cost_total  = px.line(Apartment_cost, x=\"year\", y=\"전국\")\n",
    "Apartment_cost_total.update_layout(\n",
    "                                yaxis = dict(\n",
    "                                    tickmode = 'array',\n",
    "                                    tickvals = [i for i in range(60, 121, 10)],\n",
    "                                    ticktext = [i/100 for i in range(60, 121, 10)]),\n",
    "                                margin=dict(l=20, r=30, t=0, b=0),\n",
    "                                template=\"plotly_dark\")\n",
    "Apartment_cost_total"
   ]
  },
  {
   "cell_type": "markdown",
   "metadata": {},
   "source": [
    "![1](./images/1.png)"
   ]
  },
  {
   "cell_type": "markdown",
   "metadata": {},
   "source": [
    "#### 3-3. 시군구 규모 아파트 가격 <a class=\"anchor\" id=\"section_3_3\"></a>"
   ]
  },
  {
   "cell_type": "markdown",
   "metadata": {},
   "source": [
    "- 아래의 그래프로 보면 몇몇 시군구를 제외한 모든 지역이 장기적으로 지속해서 상승하고 있는것을 볼 수 있다.<p></p>\n",
    "- 하지만 아래 그래프로 정확하게 살펴보기에는 한계가 있어보이니 지도로 나타내보자!"
   ]
  },
  {
   "cell_type": "code",
   "execution_count": null,
   "metadata": {},
   "outputs": [],
   "source": [
    "region_cols = ['부산', '대구', '인천', '광주', '대전', '울산', '세종', '경기', '강원', '충북', '충남',\n",
    " '전북', '전남', '경북', '경남', '제주', '서울']\n",
    "\n",
    "Apartment_cost_each = px.line(Apartment_cost, x=\"year\", y=region_cols)\n",
    "Apartment_cost_each.update_layout(\n",
    "    xaxis = dict(\n",
    "        tickmode = 'array',\n",
    "        tickvals = [i for i in range(2007, 2022)],\n",
    "        ticktext = [f\"{i}년\" for i in range(2007, 2022)]),\n",
    "    yaxis = dict(\n",
    "        tickmode = 'array',\n",
    "        tickvals = [i for i in range(30, 181, 30)],\n",
    "        ticktext = [i/100 for i in range(30, 181, 30)]),\n",
    "    margin=dict(l=0, r=0, t=0, b=0),\n",
    "    template=\"plotly_dark\"\n",
    ")\n",
    "\n",
    "Apartment_cost_each"
   ]
  },
  {
   "cell_type": "markdown",
   "metadata": {},
   "source": [
    "![2](./images/2.png)"
   ]
  },
  {
   "cell_type": "markdown",
   "metadata": {},
   "source": [
    "- 아래 지도 그림은 첫 번째는 기준 년도인 2017년 지도와 2020년 지도이다.<p></p>\n",
    "- 2020년 지도를 보았을때 전체적으로 특별시,광역시 기준으로 실거래 지수가 증가한 것을 볼 수 있고, 그외 지역들은 소폭 감소한 것을 볼 수 있다.<p></p>\n",
    "\n",
    "- 많은 지역을 자세히 살펴보면 좋겠지만, 타깃 지역을 설정하여 분석 추가적으로 살펴보겠다.\n",
    "    - 2017년~2020년 아파트 가격이 가장 많이 떨어진 곳 : 경남 \n",
    "    - 2017년~2020년 아파트 가격이 가장 많이 오른 곳 : 세종<p></p>\n",
    "\n",
    "- 이 두곳을 중점적으로 살펴보겠다."
   ]
  },
  {
   "cell_type": "code",
   "execution_count": null,
   "metadata": {},
   "outputs": [],
   "source": [
    "Apartment_cost = Apartment_cost[[\"year\", \"서울\", \"부산\", \"대구\", \"인천\", \"광주\", \"대전\", \"울산\", \"세종\", \"경기\", \"강원\", \"충북\", \"충남\", \"전북\", \"전남\", \"경북\", \"경남\", \"제주\"]]\n",
    "Apartment_cost = pd.melt(Apartment_cost, id_vars=['year'], value_vars=[ \"서울\", \"부산\", \"대구\", \"인천\", \"광주\", \"대전\", \"울산\", \"세종\", \"경기\", \"강원\", \"충북\", \"충남\", \"전북\", \"전남\", \"경북\", \"경남\", \"제주\"]).sort_values('year')\n",
    "Apartment_cost.columns = [\"year\", \"region\", \"value\"]\n",
    "\n",
    "\n",
    "regions[\"CTP_KOR_NM\"] = ['서울', '부산', '대구', '인천', '광주', '대전', '울산', '세종', '경기', '강원', '충북', '충남', '전북', '전남', '경북', '경남', '제주']\n",
    "regions_geometry = regions[[\"CTP_KOR_NM\", \"geometry\"]] \n",
    "regions_geometry.columns = [\"region\", \"geometry\"]\n",
    "\n",
    "regions_geometry = regions_geometry.to_crs(4326)\n",
    "regions_geometry = json.loads(regions_geometry.to_json())\n",
    "\n",
    "Apartment_cost_2017 = Apartment_cost.loc[Apartment_cost[\"year\"] == \"2017\"]\n",
    "Apartment_cost_2020 = Apartment_cost.loc[Apartment_cost[\"year\"] == \"2020\"]"
   ]
  },
  {
   "cell_type": "code",
   "execution_count": null,
   "metadata": {},
   "outputs": [],
   "source": [
    "fig = px.choropleth_mapbox(Apartment_cost_2017, geojson=regions_geometry,\n",
    "                     locations='region',\n",
    "                     color='value',\n",
    "                     color_continuous_scale='RdBu',\n",
    "                     range_color=(40,170),\n",
    "                     featureidkey=\"properties.region\",\n",
    "                     mapbox_style='carto-positron',\n",
    "                     center = {\"lat\": 36.8467, \"lon\": 127.9462}, \n",
    "                     width=600,\n",
    "                     zoom=6)\n",
    "\n",
    "fig.update_layout(margin={\"r\":0,\"t\":0,\"l\":0,\"b\":0})\n",
    "fig.show()"
   ]
  },
  {
   "cell_type": "markdown",
   "metadata": {},
   "source": [
    "![3](./images/3.png)"
   ]
  },
  {
   "cell_type": "code",
   "execution_count": null,
   "metadata": {},
   "outputs": [],
   "source": [
    "fig = px.choropleth_mapbox(Apartment_cost_2020, geojson=regions_geometry,\n",
    "                     locations='region',\n",
    "                     color='value',\n",
    "                     color_continuous_scale='RdBu',\n",
    "                     range_color=(40,170),\n",
    "                     featureidkey=\"properties.region\",\n",
    "                     mapbox_style='carto-positron',\n",
    "                     center = {\"lat\": 36.8467, \"lon\": 127.9462}, \n",
    "                     width=600,\n",
    "                     zoom=6)\n",
    "\n",
    "fig.update_layout(margin={\"r\":0,\"t\":0,\"l\":0,\"b\":0})\n",
    "fig.show()"
   ]
  },
  {
   "cell_type": "markdown",
   "metadata": {},
   "source": [
    "![4](./images/4.png)"
   ]
  },
  {
   "cell_type": "markdown",
   "metadata": {},
   "source": [
    "#### 3-4. 수요와 공급 <a class=\"anchor\" id=\"section_3_4\"></a>\n",
    "\n",
    "- 주제와 부합하여 타깃지역에 기본적인 경제 원리인 수요와 공급의 법칙이 적용되는지 확인보겠다. \n",
    "- 여기서 *수요*는 **인구 유입(증가)**, *공급*은 **미분양주택수**로 볼 예정이다."
   ]
  },
  {
   "cell_type": "markdown",
   "metadata": {},
   "source": [
    "#### 3-5. 타깃 설정과 수요와 공급 적용 <a class=\"anchor\" id=\"section_3_5\"></a>\n",
    "\n",
    "- 타깃 지역은 위에서 언급한 대로 경남과 세종으로 하였다.<p></p>\n",
    "- 경남과 세종의 미분양 주택의 양과 인구 증가율을 살펴보았을 때\n",
    "    - 경남은 4개년 동안 꾸준하게 미분양된 주택수가 넘쳐났고, 인구 유입(증가)는 거의 이뤄지지 않아, 수요과 공급의 법칙으로 보면 공급은 많은데 수요가 많지않아 집값 하락이 이루져졌다고 예상된다. \n",
    "    - 세종은 극단적으로 4개년 동안 미분양된 주택이 없다고 볼 수 있을 정도로 집이 부족하였고, 그에 비해 인구 유입이 둔화되고 있지만 그래도 많기 때문에, 수요는 증가하는데 공급이 극단적으로 적어 시군구 중에 가장 높은 집값 상승률을 보여줬다고 예상한다."
   ]
  },
  {
   "cell_type": "code",
   "execution_count": null,
   "metadata": {},
   "outputs": [],
   "source": [
    "### 미분양 주택 전처리\n",
    "def unsold_home_prepared(unsold_home):\n",
    "    col1 = [\"date\"]\n",
    "    col2 = [i[0:-3] for i in unsold_home.columns[1:].tolist()]\n",
    "    col = col1 + col2\n",
    "    unsold_home.columns = col\n",
    "    unsold_home = unsold_home.fillna(0)\n",
    "    unsold_home[\"date\"] = pd.to_datetime(unsold_home[\"date\"], format=\"%Y-%m-%d\")\n",
    "    unsold_home[\"year\"] = [i.year for i in unsold_home[\"date\"]]\n",
    "    \n",
    "    #년도 별 합산\n",
    "    unsold_home_year = []\n",
    "    for i in unsold_home.groupby(\"year\"):\n",
    "        subset = pd.DataFrame(i[1].sum(axis=0)).T\n",
    "        subset[\"year\"] = i[0]\n",
    "        unsold_home_year.append(subset)\n",
    "        \n",
    "    unsold_home_year = pd.concat(unsold_home_year)\n",
    "    return unsold_home_year\n",
    "\n",
    "# unsold_home 전처리\n",
    "unsold_home = unsold_home_prepared(unsold_home)"
   ]
  },
  {
   "cell_type": "code",
   "execution_count": null,
   "metadata": {},
   "outputs": [],
   "source": [
    "unsold_home_17_20 = unsold_home.loc[unsold_home[\"year\"].isin([2017,2018,2019, 2020])]\n",
    "\n",
    "unsold_home_each = px.line(unsold_home_17_20, x=\"year\", y=[\"경남\", \"세종\"], markers=True)\n",
    "unsold_home_each.update_layout(\n",
    "    xaxis = dict(\n",
    "        tickmode = 'array',\n",
    "        tickvals = [i for i in range(2017, 2021)],\n",
    "        ticktext = [f\"{i}년\" for i in range(2017, 2021)]),\n",
    "    yaxis = dict(\n",
    "        tickmode = 'array',\n",
    "        tickvals = [i for i in range(0, 251000, 10000)],\n",
    "        ticktext = [f\"{i}세대\" for i in range(0, 251000, 10000)]),\n",
    "    margin=dict(l=0, r=0, t=0, b=0),\n",
    "    template=\"plotly_dark\",\n",
    "    width = 600\n",
    ")"
   ]
  },
  {
   "cell_type": "markdown",
   "metadata": {},
   "source": [
    "![5](./images/5.png)"
   ]
  },
  {
   "cell_type": "code",
   "execution_count": null,
   "metadata": {},
   "outputs": [],
   "source": [
    "population_38 = population.loc[population[\"adm_nm\"] == \"경상남도\"]\n",
    "population_29 = population.loc[population[\"adm_nm\"] == \"세종특별자치시\"]\n",
    "\n",
    "### 전별도 대비 인구 증감율 구하기\n",
    "pp_increase_38 = [population_38[\"house_cnt\"].tolist()[i+1]/population_38[\"house_cnt\"].tolist()[i]-1 for i in range(4)]\n",
    "pp_increase_29 = [population_29[\"house_cnt\"].tolist()[i+1]/population_29[\"house_cnt\"].tolist()[i]-1 for i in range(4)]\n",
    "\n",
    "population_38 = population_38.loc[population_38[\"year\"].isin([2017,2018,2019,2020])]\n",
    "population_38[\"ratio\"] = pp_increase_38\n",
    "population_38 = population_38.reset_index(drop=True)\n",
    "\n",
    "population_29 = population_29.loc[population_29[\"year\"].isin([2017,2018,2019,2020])]\n",
    "population_29[\"ratio\"] = pp_increase_29\n",
    "population_29 = population_29.reset_index(drop=True)\n",
    "\n",
    "population_29_38 = pd.concat([population_38, population_29])\n",
    "\n",
    "population_29_38[\"adm_nm\"] = [\"경남\", \"경남\", \"경남\", \"경남\", \"세종\", \"세종\", \"세종\", \"세종\"]"
   ]
  },
  {
   "cell_type": "code",
   "execution_count": null,
   "metadata": {},
   "outputs": [],
   "source": [
    "population_29_38_fig = px.line(population_29_38, x=\"year\", y=\"ratio\", color=\"adm_nm\")\n",
    "population_29_38_fig.update_layout(\n",
    "    xaxis = dict(\n",
    "        tickmode = 'array',\n",
    "        tickvals = [i for i in range(2017, 2021)],\n",
    "        ticktext = [f\"{i}년\" for i in range(2017, 2021)]),\n",
    "    yaxis = dict(\n",
    "         tickmode = 'array',\n",
    "         tickvals = [0, 0.05, 0.1, 0.15, 0.20],\n",
    "         ticktext = [\"0%\", \"5%\", \"10%\", \"15%\", \"20%\"]),\n",
    "    margin=dict(l=0, r=0, t=0, b=0),\n",
    "    template=\"plotly_dark\",\n",
    "    width = 600\n",
    ")"
   ]
  },
  {
   "cell_type": "markdown",
   "metadata": {},
   "source": [
    "![6](./images/6.png)"
   ]
  },
  {
   "cell_type": "markdown",
   "metadata": {},
   "source": [
    "---"
   ]
  },
  {
   "cell_type": "markdown",
   "metadata": {},
   "source": [
    "### 4. 결론 <a class=\"anchor\" id=\"chapter4\"></a>\n",
    "\n",
    "#### 4-1. 한계점 <a class=\"anchor\" id=\"section_4_1\"></a>\n",
    "- 통계적 기법의 부재\n",
    "    - 여러 데이터의 교집합된 데이터가 얼마 없다고 판단하여.... 통계적인 기법을 사용하기에는 표본이 부족하다고 판단하여 단순한 추론에서 마무리 지었다. \n",
    "- 집값에 대한 다양한 세부 요인 존재하기 때문에 단순하게 결론을 지으면 안된다고 생각한다. 그렇기에 데이터를 보고 단순한 추론에서 마루리 하였다.\n",
    "    - 물가 상승 \n",
    "    - 원자재 값 상승 \n",
    "    - 인건비 상승\n",
    "- 극단적인 타겟 설정으로 인해 주제에 부합하게 만든 느낌이 있기 때문에 추후 분석을 더 진행하게 된다면 더 다양한 지역을 같이 분석하는게 좋을 것 같다. "
   ]
  },
  {
   "cell_type": "markdown",
   "metadata": {},
   "source": [
    "#### 4-2. 추후 연구 방향 <a class=\"anchor\" id=\"section_4_2\"></a>\n",
    "\n",
    "- 세부적인 요인을 추가하여 분석을 진행하면 좋을 것 같다. \n",
    "- 해당 데이터로 집값의 양극화를 분석해도 좋을 것 같다. "
   ]
  }
 ],
 "metadata": {
  "interpreter": {
   "hash": "a077222d77dfe082b8f1dd562ad70e458ac2ab76993a0b248ab0476e32e9e8dd"
  },
  "kernelspec": {
   "display_name": "Python 3.9.7 ('base')",
   "language": "python",
   "name": "python3"
  },
  "language_info": {
   "codemirror_mode": {
    "name": "ipython",
    "version": 3
   },
   "file_extension": ".py",
   "mimetype": "text/x-python",
   "name": "python",
   "nbconvert_exporter": "python",
   "pygments_lexer": "ipython3",
   "version": "3.9.7"
  },
  "orig_nbformat": 4
 },
 "nbformat": 4,
 "nbformat_minor": 2
}
